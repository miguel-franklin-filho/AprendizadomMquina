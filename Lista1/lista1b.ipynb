{
 "cells": [
  {
   "cell_type": "code",
   "execution_count": 1,
   "outputs": [],
   "source": [
    "import numpy as np\n",
    "import matplotlib.pyplot as plt\n",
    "import math\n",
    "from MachineModels import PolynomModel"
   ],
   "metadata": {
    "collapsed": false,
    "pycharm": {
     "name": "#%%\n"
    }
   }
  },
  {
   "cell_type": "code",
   "execution_count": 2,
   "outputs": [],
   "source": [
    "ds = np.genfromtxt('./california.csv', delimiter=',')"
   ],
   "metadata": {
    "collapsed": false,
    "pycharm": {
     "name": "#%%\n"
    }
   }
  },
  {
   "cell_type": "code",
   "execution_count": 3,
   "outputs": [],
   "source": [
    "x = ds[:, 0:-1]\n",
    "y = ds[:, -1]"
   ],
   "metadata": {
    "collapsed": false,
    "pycharm": {
     "name": "#%%\n"
    }
   }
  },
  {
   "cell_type": "markdown",
   "source": [
    "2A"
   ],
   "metadata": {
    "collapsed": false,
    "pycharm": {
     "name": "#%% md\n"
    }
   }
  },
  {
   "cell_type": "code",
   "execution_count": 31,
   "outputs": [],
   "source": [
    "def plot_train_test_rmse(train_RMSE, test_RMSE, title, xlabel, ylim, text_y):\n",
    "    plt.figure(figsize=(14,6))\n",
    "    iter = np.arange(len(train_RMSE))\n",
    "\n",
    "    plt.bar(iter*3, train_RMSE, label=\"Train\", color='blue')\n",
    "    plt.bar((iter*3)+1, test_RMSE, label=\"Test\", color='red')\n",
    "\n",
    "    for i in iter:\n",
    "        plt.text(i*3, text_y, \"{:.3f}\".format(train_RMSE[i]),\n",
    "                 ha='center', rotation=90, fontsize=10, color='black', weight=\"bold\")\n",
    "\n",
    "        plt.text((i*3)+1, text_y, \"{:.3f}\".format(test_RMSE[i]),\n",
    "                 ha='center', rotation=90, fontsize=10, color='black', weight=\"bold\")\n",
    "\n",
    "    plt.xticks((iter*3)+0.5, labels=iter.astype(np.str_))\n",
    "\n",
    "    plt.xlabel(xlabel)\n",
    "    plt.ylabel(\"RMSE\")\n",
    "    #plt.ylim(0, ylim)\n",
    "    plt.title(title)\n",
    "    plt.legend(fontsize=14)\n",
    "    plt.show()\n",
    "\n",
    "def split_training_test(x, y, percentage, shuffle=True, seed=0):\n",
    "    if (shuffle):\n",
    "        np.random.seed(seed)\n",
    "        p = np.random.permutation(x.shape[0])\n",
    "        x = x[p]\n",
    "        y = y[p]\n",
    "\n",
    "    i = math.floor(x.shape[0]*percentage)\n",
    "\n",
    "    x_train = x[0:i,:]\n",
    "    y_train = y[0:i]\n",
    "    x_test = x[i:,:]\n",
    "    y_test = y[i:]\n",
    "\n",
    "    return x_train, y_train, x_test, y_test"
   ],
   "metadata": {
    "collapsed": false,
    "pycharm": {
     "name": "#%%\n"
    }
   }
  },
  {
   "cell_type": "code",
   "execution_count": 32,
   "outputs": [],
   "source": [
    "x_train, y_train, x_test, y_test = split_training_test(x, y, 0.8)"
   ],
   "metadata": {
    "collapsed": false,
    "pycharm": {
     "name": "#%%\n"
    }
   }
  },
  {
   "cell_type": "markdown",
   "source": [
    "2B"
   ],
   "metadata": {
    "collapsed": false,
    "pycharm": {
     "name": "#%% md\n"
    }
   }
  },
  {
   "cell_type": "code",
   "execution_count": 33,
   "outputs": [],
   "source": [
    "weights = []\n",
    "for i in range(2, 12):\n",
    "    model = PolynomModel(i)\n",
    "    model.fit(x_train, y_train)\n",
    "    weight = model.OLS()\n",
    "    weights.append((i, weight))"
   ],
   "metadata": {
    "collapsed": false,
    "pycharm": {
     "name": "#%%\n"
    }
   }
  },
  {
   "cell_type": "markdown",
   "source": [
    "2C"
   ],
   "metadata": {
    "collapsed": false,
    "pycharm": {
     "name": "#%% md\n"
    }
   }
  },
  {
   "cell_type": "code",
   "execution_count": 34,
   "outputs": [
    {
     "name": "stdout",
     "output_type": "stream",
     "text": [
      "Grandeza: 2 RMSE train: 0.1390136211074563 RMSE test: 6.360641524703894\n",
      "Grandeza: 3 RMSE train: 0.13275381780001447 RMSE test: 317.7314166422064\n",
      "Grandeza: 4 RMSE train: 0.13078250768803598 RMSE test: 351.23601941891434\n",
      "Grandeza: 5 RMSE train: 0.12979769496957458 RMSE test: 373.547361398733\n",
      "Grandeza: 6 RMSE train: 0.12953703434829386 RMSE test: 387.61357293428813\n",
      "Grandeza: 7 RMSE train: 0.12899711679220663 RMSE test: 389.5469300180347\n",
      "Grandeza: 8 RMSE train: 0.12907619582645935 RMSE test: 394.9746406437253\n",
      "Grandeza: 9 RMSE train: 0.1289391611583297 RMSE test: 397.4562769876659\n",
      "Grandeza: 10 RMSE train: 0.1290036728635071 RMSE test: 401.94372805791664\n",
      "Grandeza: 11 RMSE train: 0.12840371130957937 RMSE test: 423.37611598538547\n"
     ]
    }
   ],
   "source": [
    "rmse_ols_train = []\n",
    "rmse_ols_test = []\n",
    "\n",
    "\n",
    "for i, w in weights:\n",
    "    # compute RMSE\n",
    "    pol_train = PolynomModel(i)\n",
    "    pol_train.fit(x_train, y_train)\n",
    "\n",
    "    pol_test = PolynomModel(i)\n",
    "    pol_test.fit(x_test, y_test)\n",
    "\n",
    "    train_result = pol_train.RMSE(pol_train.y, pol_train.regressao_polinomial(pol_train.x, w))\n",
    "    test_result = pol_test.RMSE(pol_test.y, pol_test.regressao_polinomial(pol_test.x, w))\n",
    "\n",
    "    # store RMSE\n",
    "    rmse_ols_train.append(train_result)\n",
    "    rmse_ols_test.append(test_result)\n",
    "\n",
    "    print(\"Grandeza: {} RMSE train: {} RMSE test: {}\".format(i, train_result, test_result))"
   ],
   "metadata": {
    "collapsed": false,
    "pycharm": {
     "name": "#%%\n"
    }
   }
  },
  {
   "cell_type": "code",
   "execution_count": 35,
   "outputs": [
    {
     "data": {
      "text/plain": "<Figure size 1008x432 with 1 Axes>",
      "image/png": "[encoded data removed]"
     },
     "metadata": {
      "needs_background": "light"
     },
     "output_type": "display_data"
    }
   ],
   "source": [
    "plot_train_test_rmse(rmse_ols_train, rmse_ols_test,\n",
    "                     title=\"Polynomial regression with OLS\", xlabel=\"Polynomial degree\", ylim=1.5, text_y=0.1)"
   ],
   "metadata": {
    "collapsed": false,
    "pycharm": {
     "name": "#%%\n"
    }
   }
  },
  {
   "cell_type": "markdown",
   "source": [
    "2D"
   ],
   "metadata": {
    "collapsed": false,
    "pycharm": {
     "name": "#%% md\n"
    }
   }
  },
  {
   "cell_type": "code",
   "execution_count": 36,
   "outputs": [],
   "source": [
    "x_train, y_train, x_test, y_test = split_training_test(x, y, 0.8)\n",
    "weights = []\n",
    "for i in range(2, 12):\n",
    "    model = PolynomModel(i)\n",
    "    model.fit(x_train, y_train)\n",
    "    weight = model.OLS(0.001)\n",
    "    weights.append((i, weight))"
   ],
   "metadata": {
    "collapsed": false,
    "pycharm": {
     "name": "#%%\n"
    }
   }
  },
  {
   "cell_type": "code",
   "execution_count": 37,
   "outputs": [
    {
     "name": "stdout",
     "output_type": "stream",
     "text": [
      "Grandeza: 2 RMSE train: 0.14156861383664185 RMSE test: 2.8877084760933736\n",
      "Grandeza: 3 RMSE train: 0.13811817699719547 RMSE test: 3.762827280394175\n",
      "Grandeza: 4 RMSE train: 0.13750959326757484 RMSE test: 4.19171939401066\n",
      "Grandeza: 5 RMSE train: 0.13729491234012117 RMSE test: 4.462810564594295\n",
      "Grandeza: 6 RMSE train: 0.13713098780961674 RMSE test: 4.636952996558576\n",
      "Grandeza: 7 RMSE train: 0.13701911367094075 RMSE test: 4.751011216827904\n",
      "Grandeza: 8 RMSE train: 0.13694439866405278 RMSE test: 4.831180434065161\n",
      "Grandeza: 9 RMSE train: 0.13688359140842538 RMSE test: 4.8916944349778975\n",
      "Grandeza: 10 RMSE train: 0.13681663931763807 RMSE test: 4.938802873688465\n",
      "Grandeza: 11 RMSE train: 0.1367338670605957 RMSE test: 4.97578529609379\n"
     ]
    }
   ],
   "source": [
    "rmse_ols_train = []\n",
    "rmse_ols_test = []\n",
    "\n",
    "\n",
    "for i, w in weights:\n",
    "    # compute RMSE\n",
    "    pol_train = PolynomModel(i)\n",
    "    pol_train.fit(x_train, y_train)\n",
    "\n",
    "    pol_test = PolynomModel(i)\n",
    "    pol_test.fit(x_test, y_test)\n",
    "\n",
    "    train_result = pol_train.RMSE(pol_train.y, pol_train.regressao_polinomial(pol_train.x, w))\n",
    "    test_result = pol_test.RMSE(pol_test.y, pol_test.regressao_polinomial(pol_test.x, w))\n",
    "\n",
    "    # store RMSE\n",
    "    rmse_ols_train.append(train_result)\n",
    "    rmse_ols_test.append(test_result)\n",
    "\n",
    "    print(\"Grandeza: {} RMSE train: {} RMSE test: {}\".format(i, train_result, test_result))"
   ],
   "metadata": {
    "collapsed": false,
    "pycharm": {
     "name": "#%%\n"
    }
   }
  },
  {
   "cell_type": "code",
   "execution_count": 38,
   "outputs": [
    {
     "data": {
      "text/plain": "<Figure size 1008x432 with 1 Axes>",
      "image/png": "[encoded data removed]"
     },
     "metadata": {
      "needs_background": "light"
     },
     "output_type": "display_data"
    }
   ],
   "source": [
    "plot_train_test_rmse(rmse_ols_train, rmse_ols_test,\n",
    "                     title=\"Polynomial regression with OLS\", xlabel=\"Polynomial degree\", ylim=1.5, text_y=0.1)"
   ],
   "metadata": {
    "collapsed": false,
    "pycharm": {
     "name": "#%%\n"
    }
   }
  },
  {
   "cell_type": "code",
   "execution_count": 38,
   "outputs": [],
   "source": [],
   "metadata": {
    "collapsed": false,
    "pycharm": {
     "name": "#%%\n"
    }
   }
  }
 ],
 "metadata": {
  "kernelspec": {
   "display_name": "Python 3",
   "language": "python",
   "name": "python3"
  },
  "language_info": {
   "codemirror_mode": {
    "name": "ipython",
    "version": 2
   },
   "file_extension": ".py",
   "mimetype": "text/x-python",
   "name": "python",
   "nbconvert_exporter": "python",
   "pygments_lexer": "ipython2",
   "version": "2.7.6"
  }
 },
 "nbformat": 4,
 "nbformat_minor": 0
}